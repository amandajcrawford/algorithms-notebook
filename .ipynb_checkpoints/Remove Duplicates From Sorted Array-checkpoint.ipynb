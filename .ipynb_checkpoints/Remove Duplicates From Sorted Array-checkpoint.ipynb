{
 "cells": [
  {
   "cell_type": "markdown",
   "metadata": {},
   "source": [
    "# Remove Duplicates From Sorted Array\n",
    "\n",
    "[Link To LeetCode Problem](https://leetcode.com/explore/featured/card/top-interview-questions-easy/92/array/727/)\n",
    "\n",
    "### Problem Description\n",
    "Given a sorted array nums, remove the duplicates in-place such that each element appear only once and return the new length.\n",
    "\n",
    "Do not allocate extra space for another array, you must do this by modifying the input array in-place with O(1) extra memory."
   ]
  },
  {
   "cell_type": "markdown",
   "metadata": {},
   "source": [
    "### Example \n",
    "Given nums = [1,1,2],\n",
    "\n",
    "Your function should return length = 2, with the first two elements of nums being 1 and 2 respectively.\n",
    "\n",
    "It doesn't matter what you leave beyond the returned length.\n"
   ]
  },
  {
   "cell_type": "markdown",
   "metadata": {},
   "source": [
    "# Solution 1"
   ]
  },
  {
   "cell_type": "code",
   "execution_count": 10,
   "metadata": {
    "collapsed": true
   },
   "outputs": [],
   "source": [
    "nums = [1,1,2]"
   ]
  },
  {
   "cell_type": "code",
   "execution_count": 11,
   "metadata": {
    "collapsed": true
   },
   "outputs": [],
   "source": [
    "# Check to see if the last number is the same as the current number and mark for removal\n",
    "def markDuplicates(nums):\n",
    "    prev_num = None\n",
    "    for i in range(len(nums)):\n",
    "        num = nums[i]\n",
    "        if prev_num is None:\n",
    "            prev_num = num\n",
    "            print('prev_num is now set to:', prev_num)\n",
    "        else:\n",
    "            if prev_num == num:\n",
    "                print('Setting duplicate number ', num, 'at index', i, 'to None')\n",
    "                nums[i] = None\n",
    "        prev_num = num\n",
    "    return nums"
   ]
  },
  {
   "cell_type": "code",
   "execution_count": 13,
   "metadata": {},
   "outputs": [
    {
     "name": "stdout",
     "output_type": "stream",
     "text": [
      "prev_num is now set to: 1\n",
      "prev_num is now set to: 2\n"
     ]
    },
    {
     "data": {
      "text/plain": [
       "[1, None, 2]"
      ]
     },
     "execution_count": 13,
     "metadata": {},
     "output_type": "execute_result"
    }
   ],
   "source": [
    "marked_nums = markDuplicates(nums)\n",
    "marked_nums"
   ]
  },
  {
   "cell_type": "code",
   "execution_count": 54,
   "metadata": {
    "collapsed": true
   },
   "outputs": [],
   "source": [
    "# Removing values morked\n",
    "def removeMarkedDuplicates(nums):\n",
    "    i = 0\n",
    "    while i < len(nums):\n",
    "        if nums[i] is None:\n",
    "            del nums[i:i+1]\n",
    "            \n",
    "        else:\n",
    "            i+=1\n",
    "    return nums"
   ]
  },
  {
   "cell_type": "code",
   "execution_count": 55,
   "metadata": {},
   "outputs": [
    {
     "data": {
      "text/plain": [
       "[1, 2]"
      ]
     },
     "execution_count": 55,
     "metadata": {},
     "output_type": "execute_result"
    }
   ],
   "source": [
    "non_duplicate_nums = removeMarkedDuplicates(marked_nums)\n",
    "non_duplicate_nums"
   ]
  },
  {
   "cell_type": "code",
   "execution_count": 56,
   "metadata": {
    "collapsed": true
   },
   "outputs": [],
   "source": [
    "non_duplicate_nums_len = len(non_duplicate_nums)"
   ]
  },
  {
   "cell_type": "code",
   "execution_count": 74,
   "metadata": {},
   "outputs": [],
   "source": [
    "# Putting it all together \n",
    "def markDuplicates(nums):\n",
    "    prev_num = None\n",
    "    for i in range(len(nums)):\n",
    "        num = nums[i]\n",
    "        if prev_num is None:\n",
    "            prev_num = num\n",
    "            print('prev_num is now set to:', prev_num)\n",
    "        else:\n",
    "            if prev_num == num:\n",
    "                print('Setting duplicate number ', num, 'at index', i, 'to None')\n",
    "                nums[i] = None\n",
    "        prev_num = num\n",
    "\n",
    "def removeMarkedDuplicates(nums):\n",
    "    i = 0\n",
    "    while i < len(nums):\n",
    "        if nums[i] is None:\n",
    "            del nums[i:i+1]\n",
    "                    \n",
    "        else:\n",
    "            i+=1\n",
    "\n",
    "def removeDuplicates(nums):\n",
    "    markDuplicates(nums)\n",
    "    removeMarkedDuplicates(nums)\n",
    "    non_duplicate_nums_len = len(nums)\n",
    "    return nums"
   ]
  },
  {
   "cell_type": "code",
   "execution_count": 75,
   "metadata": {},
   "outputs": [
    {
     "name": "stdout",
     "output_type": "stream",
     "text": [
      "prev_num is now set to: 1\n",
      "Setting duplicate number  1 at index 1 to None\n",
      "Duplicate has been removed from nums [1, 2] with a length of  2\n"
     ]
    }
   ],
   "source": [
    "nums = [1,1,2]\n",
    "removeDuplicates(nums)\n",
    "print('Duplicate has been removed from nums', nums, 'with a length of ', len(nums))"
   ]
  },
  {
   "cell_type": "code",
   "execution_count": 76,
   "metadata": {},
   "outputs": [
    {
     "name": "stdout",
     "output_type": "stream",
     "text": [
      "prev_num is now set to: 0\n",
      "Setting duplicate number  0 at index 1 to None\n",
      "Setting duplicate number  1 at index 3 to None\n",
      "Setting duplicate number  1 at index 4 to None\n",
      "Setting duplicate number  2 at index 6 to None\n",
      "Setting duplicate number  3 at index 8 to None\n",
      "Duplicate has been removed from nums_2 [0, 1, 2, 3, 4] with a length of  5\n"
     ]
    }
   ],
   "source": [
    "nums_2 = [0,0,1,1,1,2,2,3,3,4]\n",
    "removeDuplicates(nums_2)\n",
    "print('Duplicate has been removed from nums_2', nums_2, 'with a length of ', len(nums_2))"
   ]
  },
  {
   "cell_type": "markdown",
   "metadata": {},
   "source": [
    "### Optimize Runtime"
   ]
  },
  {
   "cell_type": "code",
   "execution_count": 77,
   "metadata": {
    "collapsed": true
   },
   "outputs": [],
   "source": [
    "def removeDuplicatesOpt(nums):\n",
    "    if len(nums) < 2:\n",
    "        return nums\n",
    "    length_nums = len(nums)\n",
    "    i = 1\n",
    "    while i < length_nums:\n",
    "        if nums[i] == nums[i-1]:\n",
    "            del nums[i]\n",
    "            length_nums -= 1\n",
    "        else:\n",
    "            i += 1          "
   ]
  },
  {
   "cell_type": "code",
   "execution_count": 82,
   "metadata": {},
   "outputs": [],
   "source": [
    "from timeit import timeit\n",
    "from functools import partial"
   ]
  },
  {
   "cell_type": "markdown",
   "metadata": {},
   "source": [
    "## Check for Correctness"
   ]
  },
  {
   "cell_type": "code",
   "execution_count": 79,
   "metadata": {},
   "outputs": [
    {
     "name": "stdout",
     "output_type": "stream",
     "text": [
      "prev_num is now set to: 1\n",
      "Setting duplicate number  1 at index 1 to None\n"
     ]
    }
   ],
   "source": [
    "nums = [1,1,2]\n",
    "removeDuplicates(nums)\n",
    "\n",
    "nums_opt = [1,1,2]\n",
    "removeDuplicatesOpt(nums_opt)\n",
    "assert nums == nums_opt"
   ]
  },
  {
   "cell_type": "code",
   "execution_count": 80,
   "metadata": {},
   "outputs": [
    {
     "name": "stdout",
     "output_type": "stream",
     "text": [
      "prev_num is now set to: 0\n",
      "Setting duplicate number  0 at index 1 to None\n",
      "Setting duplicate number  1 at index 3 to None\n",
      "Setting duplicate number  1 at index 4 to None\n",
      "Setting duplicate number  2 at index 6 to None\n",
      "Setting duplicate number  3 at index 8 to None\n"
     ]
    }
   ],
   "source": [
    "nums_2 = [0,0,1,1,1,2,2,3,3,4]\n",
    "removeDuplicates(nums_2)\n",
    "\n",
    "nums_2_opt = [0,0,1,1,1,2,2,3,3,4]\n",
    "removeDuplicatesOpt(nums_2_opt)\n",
    "assert nums_2 == nums_2_opt"
   ]
  },
  {
   "cell_type": "markdown",
   "metadata": {},
   "source": [
    "# Runtime Comparison"
   ]
  },
  {
   "cell_type": "code",
   "execution_count": 85,
   "metadata": {},
   "outputs": [],
   "source": [
    "# Removing console output statements\n",
    "# Putting it all together \n",
    "def markDuplicates(nums):\n",
    "    prev_num = None\n",
    "    for i in range(len(nums)):\n",
    "        num = nums[i]\n",
    "        if prev_num is None:\n",
    "            prev_num = num\n",
    "        else:\n",
    "            if prev_num == num:\n",
    "                nums[i] = None\n",
    "        prev_num = num\n",
    "\n",
    "def removeMarkedDuplicates(nums):\n",
    "    i = 0\n",
    "    while i < len(nums):\n",
    "        if nums[i] is None:\n",
    "            del nums[i:i+1]\n",
    "                    \n",
    "        else:\n",
    "            i+=1\n",
    "\n",
    "def removeDuplicates(nums):\n",
    "    markDuplicates(nums)\n",
    "    removeMarkedDuplicates(nums)\n",
    "    non_duplicate_nums_len = len(nums)\n",
    "    return nums"
   ]
  },
  {
   "cell_type": "code",
   "execution_count": 87,
   "metadata": {},
   "outputs": [
    {
     "name": "stdout",
     "output_type": "stream",
     "text": [
      "removeDuplicates runtime 0.0024046994061563964\n",
      "removeDuplicates optimized runtime 0.0019334245092039737\n"
     ]
    }
   ],
   "source": [
    "nums = [0,0,1,1,1,2,2,3,3,4]\n",
    "nums_opt = [0,0,1,1,1,2,2,3,3,4]\n",
    "print('removeDuplicates runtime', timeit(partial(removeDuplicates, nums), number=1000))\n",
    "print('removeDuplicates optimized runtime', timeit(partial(removeDuplicatesOpt, nums_opt), number=1000))"
   ]
  },
  {
   "cell_type": "code",
   "execution_count": null,
   "metadata": {
    "collapsed": true
   },
   "outputs": [],
   "source": []
  }
 ],
 "metadata": {
  "kernelspec": {
   "display_name": "Python 3",
   "language": "python",
   "name": "python3"
  },
  "language_info": {
   "codemirror_mode": {
    "name": "ipython",
    "version": 3
   },
   "file_extension": ".py",
   "mimetype": "text/x-python",
   "name": "python",
   "nbconvert_exporter": "python",
   "pygments_lexer": "ipython3",
   "version": "3.6.6"
  }
 },
 "nbformat": 4,
 "nbformat_minor": 2
}
